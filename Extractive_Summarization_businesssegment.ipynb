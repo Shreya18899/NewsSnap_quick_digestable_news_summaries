{
  "cells": [
    {
      "cell_type": "markdown",
      "metadata": {},
      "source": [
        "### Extractive Summarization using Textrank\n",
        "\n",
        "Using Numpy graph structure where the sentences are nodes and the cosine similarity \n",
        "between sentences form the edges"
      ]
    },
    {
      "cell_type": "code",
      "execution_count": 1,
      "metadata": {},
      "outputs": [
        {
          "name": "stdout",
          "output_type": "stream",
          "text": [
            "/Users/shreyasingh/PycharmProjects/NewsSnap_quick_digestable_news_summaries\n"
          ]
        }
      ],
      "source": [
        "! pwd"
      ]
    },
    {
      "cell_type": "code",
      "execution_count": 1,
      "metadata": {
        "colab": {
          "base_uri": "https://localhost:8080/"
        },
        "id": "8D4EJotWfei8",
        "outputId": "3e506ec9-2c5d-48f4-bfe5-4bbe2ae76b8e"
      },
      "outputs": [
        {
          "name": "stdout",
          "output_type": "stream",
          "text": [
            "ref                                                           title                                                 size  lastUpdated          downloadCount  voteCount  usabilityRating  \n",
            "------------------------------------------------------------  --------------------------------------------------  ------  -------------------  -------------  ---------  ---------------  \n",
            "pariza/bbc-news-summary                                       BBC News Summary                                       9MB  2018-05-06 11:08:19          14963        177  0.75             \n",
            "jacopoferretti/bbc-articles-dataset                           BBC Articles Dataset with Extra Features               4MB  2024-11-11 17:50:09           1235         34  1.0              \n",
            "bhavikjikadara/bbc-news-articles                              BBC News Articles                                      3MB  2024-07-04 08:45:12            564         17  1.0              \n",
            "dignity45/bbc-news-summarycsv-format                          BBC NEWS SUMMARY(CSV FORMAT)                           2MB  2024-09-09 12:57:06             20          2  0.7058824        \n",
            "imumerfarooq/bbc-news-summary                                 BBC News Summary                                       9MB  2023-07-15 06:23:31             14          1  0.125            \n",
            "fadyelkbeer/arabic-summarization-bbc-news                     Arabic summarization (BBC News)                       73MB  2021-12-29 09:03:11            379          7  0.1764706        \n",
            "jammikunal/sanskrit-data                                      Sanskrit Data                                          6MB  2024-06-03 12:14:20              8          0  0.7058824        \n",
            "techsalerator/new-events-data-in-united-kingdom               New Events Data in United Kingdom                      5KB  2024-09-14 09:02:45              2          0  0.64705884       \n",
            "aggle6666/bbc-news                                            BBC News Articles                                    961KB  2022-06-17 08:29:18             56          1  0.5294118        \n",
            "aayushchamoli/bbc-news                                        bbc news                                               9MB  2024-11-08 16:38:46              1          0  0.25             \n",
            "marwanurtaj/busum-bnlp-dataset-multi-document-bangla-summary  BUSUM-BNLP Dataset (Multi-Document Bangla Summary)  1023KB  2023-10-11 10:16:56             56          6  0.75             \n",
            "ankansaha060/bbc-news-dataset-for-extractive-summarization    BBC News Dataset for Extractive Summarization          2MB  2023-09-06 15:44:24             26          0  0.23529412       \n",
            "lakhanmalviya/bbc-news-summary-dataset                        bbc_news_summary_dataset                               3MB  2023-04-06 13:22:26              7          0  0.125            \n"
          ]
        }
      ],
      "source": [
        "# Create the .kaggle directory\n",
        "!mkdir -p ~/.kaggle\n",
        "\n",
        "# Copy kaggle.json to the .kaggle directory\n",
        "!cp kaggle.json ~/.kaggle/\n",
        "\n",
        "# Set permissions for the Kaggle API token\n",
        "!chmod 600 ~/.kaggle/kaggle.json\n",
        "\n",
        "# Confirm Kaggle API setup\n",
        "!kaggle datasets list -s \"bbc-news-summary\""
      ]
    },
    {
      "cell_type": "code",
      "execution_count": 2,
      "metadata": {
        "colab": {
          "base_uri": "https://localhost:8080/"
        },
        "id": "gSTYAUwOe_dG",
        "outputId": "94cb4554-6541-47ff-9155-3b2947ee513c"
      },
      "outputs": [
        {
          "name": "stdout",
          "output_type": "stream",
          "text": [
            "Dataset URL: https://www.kaggle.com/datasets/pariza/bbc-news-summary\n",
            "License(s): CC0-1.0\n",
            "Downloading bbc-news-summary.zip to /content\n",
            "  0% 0.00/8.91M [00:00<?, ?B/s]\n",
            "100% 8.91M/8.91M [00:00<00:00, 97.1MB/s]\n"
          ]
        }
      ],
      "source": [
        "!kaggle datasets download -d pariza/bbc-news-summary\n",
        "!unzip bbc-news-summary.zip -d bbc-news-summary"
      ]
    },
    {
      "cell_type": "code",
      "execution_count": 5,
      "metadata": {
        "colab": {
          "base_uri": "https://localhost:8080/"
        },
        "id": "lSYkWmnRz_-G",
        "outputId": "d4215995-4d58-429b-96d9-be94f99b02f3"
      },
      "outputs": [
        {
          "name": "stdout",
          "output_type": "stream",
          "text": [
            "Collecting rouge-score\n",
            "  Downloading rouge_score-0.1.2.tar.gz (17 kB)\n",
            "  Preparing metadata (setup.py) ... \u001b[?25l\u001b[?25hdone\n",
            "Requirement already satisfied: absl-py in /usr/local/lib/python3.10/dist-packages (from rouge-score) (1.4.0)\n",
            "Requirement already satisfied: nltk in /usr/local/lib/python3.10/dist-packages (from rouge-score) (3.9.1)\n",
            "Requirement already satisfied: numpy in /usr/local/lib/python3.10/dist-packages (from rouge-score) (1.26.4)\n",
            "Requirement already satisfied: six>=1.14.0 in /usr/local/lib/python3.10/dist-packages (from rouge-score) (1.16.0)\n",
            "Requirement already satisfied: click in /usr/local/lib/python3.10/dist-packages (from nltk->rouge-score) (8.1.7)\n",
            "Requirement already satisfied: joblib in /usr/local/lib/python3.10/dist-packages (from nltk->rouge-score) (1.4.2)\n",
            "Requirement already satisfied: regex>=2021.8.3 in /usr/local/lib/python3.10/dist-packages (from nltk->rouge-score) (2024.9.11)\n",
            "Requirement already satisfied: tqdm in /usr/local/lib/python3.10/dist-packages (from nltk->rouge-score) (4.66.6)\n",
            "Building wheels for collected packages: rouge-score\n",
            "  Building wheel for rouge-score (setup.py) ... \u001b[?25l\u001b[?25hdone\n",
            "  Created wheel for rouge-score: filename=rouge_score-0.1.2-py3-none-any.whl size=24935 sha256=72e7a736ab9840266c7f009ef870b1a2a95bd09729f755bf4ac363049c1e94a7\n",
            "  Stored in directory: /root/.cache/pip/wheels/5f/dd/89/461065a73be61a532ff8599a28e9beef17985c9e9c31e541b4\n",
            "Successfully built rouge-score\n",
            "Installing collected packages: rouge-score\n",
            "Successfully installed rouge-score-0.1.2\n"
          ]
        }
      ],
      "source": [
        "! pip install rouge-score"
      ]
    },
    {
      "cell_type": "markdown",
      "metadata": {
        "id": "H8r1u3XyhBhB"
      },
      "source": [
        "### Extractive summarization"
      ]
    },
    {
      "cell_type": "code",
      "execution_count": 6,
      "metadata": {
        "id": "pbh16Zqigz_X"
      },
      "outputs": [],
      "source": [
        "import os\n",
        "import time\n",
        "import numpy as np\n",
        "import networkx as nx\n",
        "import nltk, re\n",
        "from nltk.corpus import stopwords\n",
        "from nltk.cluster.util import cosine_distance\n",
        "from nltk.tokenize import sent_tokenize\n",
        "from nltk.translate.bleu_score import sentence_bleu, SmoothingFunction\n",
        "from rouge_score import rouge_scorer"
      ]
    },
    {
      "cell_type": "markdown",
      "metadata": {
        "id": "VlOZRGmqGTF2"
      },
      "source": [
        "### Directory paths"
      ]
    },
    {
      "cell_type": "code",
      "execution_count": 7,
      "metadata": {
        "id": "NVCCrJr_DcLX"
      },
      "outputs": [],
      "source": [
        "articles_dir = \"/content/bbc-news-summary/BBC News Summary/News Articles/\"\n",
        "summaries_dir = \"/content/bbc-news-summary/BBC News Summary/Summaries/\""
      ]
    },
    {
      "cell_type": "markdown",
      "metadata": {
        "id": "_TpMfVtvDiPF"
      },
      "source": [
        "### Read one text file under the business folder"
      ]
    },
    {
      "cell_type": "code",
      "execution_count": 8,
      "metadata": {
        "colab": {
          "base_uri": "https://localhost:8080/"
        },
        "id": "i39tAn3ADpIC",
        "outputId": "60db3603-88e2-48cc-b43b-725a93e108cc"
      },
      "outputs": [
        {
          "name": "stdout",
          "output_type": "stream",
          "text": [
            "Ad sales boost Time Warner profit\n",
            "\n",
            "Quarterly profits at US media giant TimeWarner jumped 76% to $1.13bn (£600m) for the three months to December, from $639m year-earlier.\n",
            "\n",
            "The firm, which is now one of the biggest investors in Google, benefited from sales of high-speed internet connections and higher advert sales. TimeWarner said fourth quarter sales rose 2% to $11.1bn from $10.9bn. Its profits were buoyed by one-off gains which offset a profit dip at Warner Bros, and less users for AOL.\n",
            "\n",
            "Time Warner said on Friday that it now owns 8% of search-engine Google. But its own internet business, AOL, had has mixed fortunes. It lost 464,000 subscribers in the fourth quarter profits were lower than in the preceding three quarters. However, the company said AOL's underlying profit before exceptional items rose 8% on the back of stronger internet advertising revenues. It hopes to increase subscribers by offering the online service free to TimeWarner internet customers and will try to sign up AOL's existing customers for high-speed broadband. TimeWarner also has to restate 2000 and 2003 results following a probe by the US Securities Exchange Commission (SEC), which is close to concluding.\n",
            "\n",
            "Time Warner's fourth quarter profits were slightly better than analysts' expectations. But its film division saw profits slump 27% to $284m, helped by box-office flops Alexander and Catwoman, a sharp contrast to year-earlier, when the third and final film in the Lord of the Rings trilogy boosted results. For the full-year, TimeWarner posted a profit of $3.36bn, up 27% from its 2003 performance, while revenues grew 6.4% to $42.09bn. \"Our financial performance was strong, meeting or exceeding all of our full-year objectives and greatly enhancing our flexibility,\" chairman and chief executive Richard Parsons said. For 2005, TimeWarner is projecting operating earnings growth of around 5%, and also expects higher revenue and wider profit margins.\n",
            "\n",
            "TimeWarner is to restate its accounts as part of efforts to resolve an inquiry into AOL by US market regulators. It has already offered to pay $300m to settle charges, in a deal that is under review by the SEC. The company said it was unable to estimate the amount it needed to set aside for legal reserves, which it previously set at $500m. It intends to adjust the way it accounts for a deal with German music publisher Bertelsmann's purchase of a stake in AOL Europe, which it had reported as advertising revenue. It will now book the sale of its stake in AOL Europe as a loss on the value of that stake.\n",
            "\n"
          ]
        }
      ],
      "source": [
        "# Open the file in read mode\n",
        "with open(\"/content/bbc-news-summary/BBC News Summary/News Articles/business/001.txt\", \"r\") as file:\n",
        "    content = file.read()\n",
        "\n",
        "# Print the content\n",
        "print(content)"
      ]
    },
    {
      "cell_type": "markdown",
      "metadata": {
        "id": "nuFNGUtJDuO_"
      },
      "source": [
        "### Load articles and summaries\n"
      ]
    },
    {
      "cell_type": "code",
      "execution_count": 10,
      "metadata": {
        "colab": {
          "base_uri": "https://localhost:8080/"
        },
        "id": "CbpgO-Hk0D-y",
        "outputId": "95d5ac1e-4863-424c-d8e0-11d61a78b3c2"
      },
      "outputs": [
        {
          "name": "stdout",
          "output_type": "stream",
          "text": [
            "Loaded 2225 articles and 2225 summaries from all categories.\n"
          ]
        }
      ],
      "source": [
        "# Function to load all articles or summaries from multiple subfolders\n",
        "def load_text_files_from_all_categories(base_directory):\n",
        "    data = {}\n",
        "    for category in os.listdir(base_directory):  # Loop through categories\n",
        "        category_path = os.path.join(base_directory, category)\n",
        "        if os.path.isdir(category_path):  # Check if it's a directory\n",
        "            for file in os.listdir(category_path):  # Loop through files\n",
        "                file_path = os.path.join(category_path, file)\n",
        "                with open(file_path, 'r', encoding='utf-8', errors='ignore') as f:\n",
        "                    data[f\"{category}/{file}\"] = f.read().strip()\n",
        "    return data\n",
        "\n",
        "# Load all articles and summaries\n",
        "articles = load_text_files_from_all_categories(articles_dir)\n",
        "summaries = load_text_files_from_all_categories(summaries_dir)\n",
        "\n",
        "print(f\"Loaded {len(articles)} articles and {len(summaries)} summaries from all categories.\")"
      ]
    },
    {
      "cell_type": "code",
      "execution_count": 12,
      "metadata": {
        "id": "eguBeWZghGyH"
      },
      "outputs": [],
      "source": [
        "def read_text(txt: str = \"\"):\n",
        "  sentences = []\n",
        "  sentences = sent_tokenize(txt)\n",
        "  for sentence in sentences:\n",
        "    # remove everthing in the text that is not alphanumeric i.e. letters or numbers\n",
        "    sentence.replace(\"[^a-zA-Z0-9]\", \" \")\n",
        "  return sentences"
      ]
    },
    {
      "cell_type": "markdown",
      "metadata": {
        "id": "cPh-jn9GEZ09"
      },
      "source": [
        "### Example summary text"
      ]
    },
    {
      "cell_type": "code",
      "execution_count": 13,
      "metadata": {
        "id": "cZtYQ5V8HQ96"
      },
      "outputs": [],
      "source": [
        "# summarize_me = \"\"\"The term Data Science was created in the early 1960s to describe a new profession that would support the understanding and interpretation of the large amounts of data which was being amassed at the time. At the time, there was no way of predicting the truly massive amounts of data over the next fifty years. Data Science continues to evolve as a discipline using computer science and statistical methodology to make useful predictions and gain insights in a wide range of fields. While Data Science is used in areas such as astronomy and medicine, it is also used in business to help make smarter decisions.\n",
        "# Statistics, and the use of statistical models, are deeply rooted within the field of Data Science. Data Science started with statistics and has evolved to include concepts/practices such as artificial intelligence, machine learning, and the Internet of Things, to name a few. As more and more data has become available, first by way of recorded shopping behaviors and trends, businesses have been collecting and storing it in ever greater amounts. With the growth of the Internet, the Internet of Things, and the exponential growth of data volumes available to enterprises, there has been a flood of new information or big data. Once the doors were opened by businesses seeking to increase profits and drive better decision-making, the use of big data started being applied to other fields, such as medicine, engineering, and social sciences.\n",
        "# The term Data Science was created in the early 1960s to describe a new profession that would support the understanding and interpretation of the large amounts of data which was being amassed at the time. At the time, there was no way of predicting the truly massive amounts of data over the next fifty years. Data Science continues to evolve as a discipline using computer science and statistical methodology to make useful predictions and gain insights in a wide range of fields. While Data Science is used in areas such as astronomy and medicine, it is also used in business to help make smarter decisions.\n",
        "# Statistics, and the use of statistical models, are deeply rooted within the field of Data Science. Data Science started with statistics and has evolved to include concepts/practices such as artificial intelligence, machine learning, and the Internet of Things, to name a few. As more and more data has become available, first by way of recorded shopping behaviors and trends, businesses have been collecting and storing it in ever greater amounts. With the growth of the Internet, the Internet of Things, and the exponential growth of data volumes available to enterprises, there has been a flood of new information or big data. Once the doors were opened by businesses seeking to increase profits and drive better decision-making, the use of big data started being applied to other fields, such as medicine, engineering, and social sciences.\n",
        "# A functional data scientist, as opposed to a general statistician, has a good understanding of software architecture and understands multiple programming languages. The data scientist defines the problem, identifies the key sources of information, and designs the framework for collecting and screening the needed data. Software is typically responsible for collecting, processing, and modeling the data. They use the principles of Data Science, and all the related sub-fields and practices encompassed within Data Science, to gain deeper insight into the data assets under review.\n",
        "# There are many different dates and timelines that can be used to trace the slow growth of Data Science and its current impact on the Data Management industry, some of the more significant ones are outlined below.\"\"\"\n"
      ]
    },
    {
      "cell_type": "markdown",
      "metadata": {
        "id": "r91kDrdvFx_b"
      },
      "source": [
        "Cosine Distance:\n",
        "\n",
        "    Cosine distance is often used as a dissimilarity measure. It's defined as:\n",
        "\n",
        "Cosine Distance=1−Cosine Similarity\n",
        "Cosine Distance=1−Cosine Similarity\n",
        "\n",
        "    This transformation shifts the range of the cosine similarity to [0, 2]:\n",
        "        0 means the vectors are identical (perfect match),\n",
        "        1 means the vectors are orthogonal (no similarity),\n",
        "        2 means the vectors are opposite (completely dissimilar)."
      ]
    },
    {
      "cell_type": "code",
      "execution_count": 14,
      "metadata": {
        "id": "nGzkxbVkEb8t"
      },
      "outputs": [],
      "source": [
        "def sentence_similarity(sentence1, sentence2, stopwords = []):\n",
        "  \"\"\"\n",
        "  This function computes the cosine similarity between two sentences\n",
        "  by representing them as vectors of word occurrences.\n",
        "  \"\"\"\n",
        "  sentence1 = [word.lower() for word in sentence1]\n",
        "  sentence2 = [word.lower() for word in sentence2]\n",
        "  all_words = list(set(sentence1 + sentence2))\n",
        "  vector1 = [0] * len(all_words)\n",
        "  vector2 = [0] * len(all_words)\n",
        "  # First sentence vector\n",
        "  for word in sentence1:\n",
        "    if not word in stopwords:\n",
        "      vector1[all_words.index(word)] += 1\n",
        "  # Second sentence vector\n",
        "  for word in sentence2:\n",
        "    if not word in stopwords:\n",
        "      vector2[all_words.index(word)] += 1\n",
        "  # Vectors cosine similarity\n",
        "  return 1 - cosine_distance(vector1, vector2)"
      ]
    },
    {
      "cell_type": "code",
      "execution_count": 15,
      "metadata": {
        "id": "ejG_-nm3F9MN"
      },
      "outputs": [],
      "source": [
        "def sentences_similarity_matrix(sentences, stopwords_):\n",
        "  \"\"\"\n",
        "  This function will output a matrix where each element (i,j)(i,j) represents the similarity score\n",
        "  between the i-th and j-th sentences, excluding the specified stopwords.\n",
        "  We can use this matrix to observe sentences which have the highest similarity scores.\n",
        "  \"\"\"\n",
        "  similarity_matrix = np.zeros((len(sentences), len(sentences))) # N on N\n",
        "  for i in range(len(sentences)):\n",
        "      for j in range(len(sentences)):\n",
        "        if i != j:\n",
        "          similarity_matrix[i][j] = sentence_similarity(sentences[i], sentences[j], stopwords_)\n",
        "  return similarity_matrix"
      ]
    },
    {
      "cell_type": "code",
      "execution_count": 16,
      "metadata": {
        "id": "bqfY6H7mGihJ"
      },
      "outputs": [],
      "source": [
        "def sentence_similarity_after_stopword_removal(txt):\n",
        "  nltk.download('stopwords')\n",
        "  nltk.download('punkt_tab')\n",
        "  final_stopwords = stopwords.words('english')\n",
        "  # Read and tokenize txt\n",
        "  sentences = read_text(txt)\n",
        "  # Get similarity matrix by passing the stopwords\n",
        "  sentence_similarity_matrix = sentences_similarity_matrix(sentences, final_stopwords)\n",
        "  return sentence_similarity_matrix, sentences"
      ]
    },
    {
      "cell_type": "code",
      "execution_count": null,
      "metadata": {
        "colab": {
          "base_uri": "https://localhost:8080/"
        },
        "id": "yQaUGx05GxfQ",
        "outputId": "a2aae20c-8f7e-42cd-d345-625bb8e4d079"
      },
      "outputs": [
        {
          "name": "stderr",
          "output_type": "stream",
          "text": [
            "[nltk_data] Downloading package stopwords to /root/nltk_data...\n",
            "[nltk_data]   Package stopwords is already up-to-date!\n",
            "[nltk_data] Downloading package punkt_tab to /root/nltk_data...\n",
            "[nltk_data]   Package punkt_tab is already up-to-date!\n"
          ]
        },
        {
          "data": {
            "text/plain": [
              "(23, 23)"
            ]
          },
          "execution_count": 68,
          "metadata": {},
          "output_type": "execute_result"
        }
      ],
      "source": [
        "sent_sim_matrix, original_sentences = sentence_similarity_after_stopword_removal(summarize_me)\n",
        "sent_sim_matrix.shape"
      ]
    },
    {
      "cell_type": "code",
      "execution_count": null,
      "metadata": {},
      "outputs": [],
      "source": [
        "sent_sim_matrix"
      ]
    },
    {
      "cell_type": "code",
      "execution_count": null,
      "metadata": {
        "id": "Dg9hdyNoHmOR"
      },
      "outputs": [],
      "source": [
        "def summarize(sentence_similarity_matrix, top_n, sentences):\n",
        "  \"\"\"\n",
        "  The provided code snippet implements an extractive text summarization technique\n",
        "  using a graph-based ranking algorithm TextRank:\n",
        "  In this graph, each node represents a sentence,\n",
        "  and edges between nodes are weighted by the similarity scores from the matrix.\n",
        "  \"\"\"\n",
        "  summarized_text = []\n",
        "  # Rank sentences in the given similarity matrix\n",
        "  # convert similarity matrix into a graph structure using numpy\n",
        "  sentence_similarity_graph = nx.from_numpy_array(sentence_similarity_matrix)\n",
        "  # rank sentences based on their similarity to other sentences using TextRank\n",
        "  scores = nx.pagerank(sentence_similarity_graph)\n",
        "  # Sort the rank of top sentences\n",
        "  ranked_sentences = sorted(((scores[i], s) for i, s in enumerate(sentences)), reverse = True)\n",
        "  # Get the top n number of sentences based on rank\n",
        "  for i in range(top_n):\n",
        "    summarized_text.append(ranked_sentences[i][1])\n",
        "  # Output the summarized version\n",
        "  summary = \" \".join(summarized_text)\n",
        "  return summary, len(sentences), ranked_sentences\n"
      ]
    },
    {
      "cell_type": "code",
      "execution_count": null,
      "metadata": {
        "id": "hbi1bRUcGief"
      },
      "outputs": [],
      "source": [
        "final_summary, sent_len, ranked_sentences = summarize(sent_sim_matrix, 3, original_sentences)"
      ]
    },
    {
      "cell_type": "code",
      "execution_count": null,
      "metadata": {
        "colab": {
          "base_uri": "https://localhost:8080/",
          "height": 143
        },
        "id": "CGgX8cgVGibq",
        "outputId": "8b400cef-0f58-42a2-88bf-7b23fe46ab67"
      },
      "outputs": [
        {
          "data": {
            "application/vnd.google.colaboratory.intrinsic+json": {
              "type": "string"
            },
            "text/plain": [
              "'There are many different dates and timelines that can be used to trace the slow growth of Data Science and its current impact on the Data Management industry, some of the more significant ones are outlined below. They use the principles of Data Science, and all the related sub-fields and practices encompassed within Data Science, to gain deeper insight into the data assets under review. The term Data Science was created in the early 1960s to describe a new profession that would support the understanding and interpretation of the large amounts of data which was being amassed at the time.'"
            ]
          },
          "execution_count": 75,
          "metadata": {},
          "output_type": "execute_result"
        }
      ],
      "source": [
        "final_summary"
      ]
    },
    {
      "cell_type": "code",
      "execution_count": null,
      "metadata": {
        "colab": {
          "base_uri": "https://localhost:8080/"
        },
        "id": "EFNSSD1a284y",
        "outputId": "2a3c873b-0d3a-40eb-8214-bb825c62ec58"
      },
      "outputs": [
        {
          "data": {
            "text/plain": [
              "(str, str)"
            ]
          },
          "execution_count": 76,
          "metadata": {},
          "output_type": "execute_result"
        }
      ],
      "source": [
        "type(final_summary), type(summarize_me)"
      ]
    },
    {
      "cell_type": "code",
      "execution_count": null,
      "metadata": {
        "colab": {
          "base_uri": "https://localhost:8080/",
          "height": 53
        },
        "id": "2CeW6pv83JiG",
        "outputId": "23b628c0-3551-41a7-f87f-dbfd2ffeeea0"
      },
      "outputs": [
        {
          "data": {
            "application/vnd.google.colaboratory.intrinsic+json": {
              "type": "string"
            },
            "text/plain": [
              "'They use the principles of Data Science, and all the related sub-fields and practices encompassed within Data Science, to gain deeper insight into the data assets under review.'"
            ]
          },
          "execution_count": 51,
          "metadata": {},
          "output_type": "execute_result"
        }
      ],
      "source": [
        "ranked_sentences[1][1]"
      ]
    },
    {
      "cell_type": "code",
      "execution_count": null,
      "metadata": {
        "id": "mq0_IwZfBnZf"
      },
      "outputs": [],
      "source": [
        "# convert from tuple to list\n",
        "final_ranked_sentences = []\n",
        "# Take top 3 sentences of the summary\n",
        "for final_ranked in ranked_sentences[:3]:\n",
        "  final_ranked_sentences.append(final_ranked[1])"
      ]
    },
    {
      "cell_type": "code",
      "execution_count": null,
      "metadata": {
        "id": "ny6uavOtAO1T"
      },
      "outputs": [],
      "source": [
        "# Function to calculate BLEU using unigrams\n",
        "def calculate_bleu_for_summary_unigram(reference, candidate):\n",
        "    smoothing = SmoothingFunction().method1\n",
        "    total_score = 0\n",
        "    for cand_sentence in candidate:\n",
        "        tokenized_cand = cand_sentence.split()\n",
        "        # set weights to (1, 0, 0, 0) for unigram\n",
        "        sentence_scores = [\n",
        "            sentence_bleu([ref.split()], tokenized_cand, smoothing_function=smoothing,\n",
        "                          weights=(1, 0, 0, 0))\n",
        "            for ref in reference\n",
        "        ]\n",
        "        best_score = max(sentence_scores)  # Take the best match\n",
        "        total_score += best_score\n",
        "    average_score = total_score / len(candidate)  # Normalize by the number of summary sentences\n",
        "    return average_score"
      ]
    },
    {
      "cell_type": "code",
      "execution_count": null,
      "metadata": {
        "colab": {
          "base_uri": "https://localhost:8080/"
        },
        "id": "9JJQzRskBbaZ",
        "outputId": "74148d59-692b-44ac-c397-b9f41a767237"
      },
      "outputs": [
        {
          "data": {
            "text/plain": [
              "1.0"
            ]
          },
          "execution_count": 105,
          "metadata": {},
          "output_type": "execute_result"
        }
      ],
      "source": [
        "# Unigram check\n",
        "summary_bleu_unigram = calculate_bleu_for_summary_unigram(original_sentences, final_ranked_sentences)\n",
        "summary_bleu_unigram"
      ]
    },
    {
      "cell_type": "code",
      "execution_count": null,
      "metadata": {
        "id": "3iCI-2tzCCiW"
      },
      "outputs": [],
      "source": [
        "# Function to calculate BLEU using unigrams\n",
        "def calculate_bleu_for_summary_4gram(reference, candidate):\n",
        "    smoothing = SmoothingFunction().method1\n",
        "    total_score = 0\n",
        "    for cand_sentence in candidate:\n",
        "        tokenized_cand = cand_sentence.split()\n",
        "        # set weights to (1, 0, 0, 0) for unigram\n",
        "        sentence_scores = [\n",
        "            sentence_bleu([ref.split()], tokenized_cand, smoothing_function=smoothing,\n",
        "                          weights=(0.25, 0.25, 0.25, 0.25))\n",
        "            for ref in reference\n",
        "        ]\n",
        "        best_score = max(sentence_scores)  # Take the best match\n",
        "        total_score += best_score\n",
        "    average_score = total_score / len(candidate)  # Normalize by the number of summary sentences\n",
        "    return average_score"
      ]
    },
    {
      "cell_type": "code",
      "execution_count": null,
      "metadata": {
        "colab": {
          "base_uri": "https://localhost:8080/"
        },
        "id": "AidTweF-AQte",
        "outputId": "568f9fe6-48df-448f-ac15-79e5f88e6b66"
      },
      "outputs": [
        {
          "name": "stdout",
          "output_type": "stream",
          "text": [
            "BLEU Score for the summarized text: 1.0000\n"
          ]
        }
      ],
      "source": [
        "# Calculate BLEU\n",
        "summary_bleu_4gram = calculate_bleu_for_summary_4gram(original_sentences, final_ranked_sentences)\n",
        "\n",
        "# Display results\n",
        "print(f\"BLEU Score for the summarized text: {summary_bleu_4gram:.4f}\")"
      ]
    },
    {
      "cell_type": "markdown",
      "metadata": {
        "id": "KuZfkOKgCp3g"
      },
      "source": [
        "### Rouge score"
      ]
    },
    {
      "cell_type": "code",
      "execution_count": null,
      "metadata": {
        "colab": {
          "base_uri": "https://localhost:8080/"
        },
        "id": "3Lq7OlkWCMQ-",
        "outputId": "f9f1e2ae-4f2d-4cb2-a816-516bed0eaf0e"
      },
      "outputs": [
        {
          "name": "stdout",
          "output_type": "stream",
          "text": [
            "ROUGE1 - Precision: 1.0000, Recall: 0.1672, F1: 0.2865\n",
            "ROUGE2 - Precision: 0.9800, Recall: 0.1625, F1: 0.2788\n",
            "ROUGEL - Precision: 0.5644, Recall: 0.0944, F1: 0.1617\n"
          ]
        }
      ],
      "source": [
        "# Combine sentences for single comparison\n",
        "reference_summary = \" \".join(original_sentences)\n",
        "candidate_summary = \" \".join(final_ranked_sentences)\n",
        "\n",
        "# Initialize ROUGE scorer\n",
        "scorer = rouge_scorer.RougeScorer(['rouge1', 'rouge2', 'rougeL'], use_stemmer=True)\n",
        "\n",
        "# Compute ROUGE scores\n",
        "scores = scorer.score(reference_summary, candidate_summary)\n",
        "\n",
        "# Display results\n",
        "for metric, score in scores.items():\n",
        "    print(f\"{metric.upper()} - Precision: {score.precision:.4f}, Recall: {score.recall:.4f}, F1: {score.fmeasure:.4f}\")\n"
      ]
    },
    {
      "cell_type": "code",
      "execution_count": null,
      "metadata": {
        "id": "Vy9F408SATK0"
      },
      "outputs": [],
      "source": [
        "# Function to process all articles\n",
        "def process_all_articles(articles, summaries, top_n=3):\n",
        "    stopwords_list = stopwords.words('english')\n",
        "    final_results = []\n",
        "    total_bleu = 0\n",
        "    for file, article in articles.items():\n",
        "        st = time.time()\n",
        "         # Tokenize reference summary\n",
        "        reference_summary = summaries.get(file, \"\").splitlines()\n",
        "        # Tokenize and calculate similarity matrix\n",
        "        sentences = sent_tokenize(article)\n",
        "        similarity_matrix = sentences_similarity_matrix(sentences, stopwords_list)\n",
        "\n",
        "        # Generate summary\n",
        "        final_summary, sent_len, ranked_sentences = summarize(similarity_matrix, top_n, sentences)\n",
        "\n",
        "        # Calculate BLEU\n",
        "        bleu_score = calculate_bleu_for_summary_4gram(reference_summary, final_summary.splitlines())\n",
        "\n",
        "        # Store results\n",
        "        final_results.append({\n",
        "            \"file\": file,\n",
        "            \"summary\": final_summary,\n",
        "            \"bleu\": bleu_score\n",
        "        })\n",
        "\n",
        "        # Accumulate BLEU scores\n",
        "        total_bleu += bleu_score\n",
        "        print(\"Time taken is :\", time.time() - st)\n",
        "\n",
        "    # Compute average BLEU\n",
        "    average_bleu = total_bleu / len(final_results)\n",
        "\n",
        "    return final_results, average_bleu"
      ]
    },
    {
      "cell_type": "code",
      "execution_count": null,
      "metadata": {
        "colab": {
          "base_uri": "https://localhost:8080/"
        },
        "id": "I-lHQb0dF9Yh",
        "outputId": "87d045ac-d4b1-4e9a-e1c4-d1d61c5bc4f7"
      },
      "outputs": [
        {
          "name": "stdout",
          "output_type": "stream",
          "text": [
            "Time taken is : 0.7870628833770752\n",
            "Time taken is : 0.09772658348083496\n",
            "Time taken is : 0.3102295398712158\n",
            "Time taken is : 0.6910796165466309\n",
            "Time taken is : 11.563915729522705\n",
            "Time taken is : 0.22063708305358887\n",
            "Time taken is : 0.13146448135375977\n",
            "Time taken is : 0.10208725929260254\n",
            "Time taken is : 0.3287646770477295\n",
            "Time taken is : 0.05009317398071289\n",
            "Time taken is : 0.08936476707458496\n",
            "Time taken is : 0.06034374237060547\n",
            "Time taken is : 0.218735933303833\n",
            "Time taken is : 0.09930658340454102\n",
            "Time taken is : 0.1765279769897461\n",
            "Time taken is : 0.13111305236816406\n",
            "Time taken is : 0.3057713508605957\n",
            "Time taken is : 0.11138033866882324\n",
            "Time taken is : 0.25009679794311523\n",
            "Time taken is : 0.3295712471008301\n",
            "Time taken is : 0.1159367561340332\n",
            "Time taken is : 0.2402036190032959\n",
            "Time taken is : 0.3251063823699951\n",
            "Time taken is : 0.08764076232910156\n",
            "Time taken is : 0.10184669494628906\n",
            "Time taken is : 0.26579928398132324\n",
            "Time taken is : 0.19997477531433105\n",
            "Time taken is : 0.45491981506347656\n",
            "Time taken is : 0.04032540321350098\n",
            "Time taken is : 0.36791253089904785\n",
            "Time taken is : 0.5544610023498535\n",
            "Time taken is : 0.38799452781677246\n",
            "Time taken is : 0.4346942901611328\n",
            "Time taken is : 1.2189059257507324\n",
            "Time taken is : 0.40239644050598145\n",
            "Time taken is : 0.8733031749725342\n",
            "Time taken is : 0.5188167095184326\n",
            "Time taken is : 0.14716172218322754\n",
            "Time taken is : 0.20006990432739258\n",
            "Time taken is : 0.3411991596221924\n",
            "Time taken is : 0.15860795974731445\n",
            "Time taken is : 0.22272729873657227\n",
            "Time taken is : 0.2110145092010498\n",
            "Time taken is : 0.38614487648010254\n",
            "Time taken is : 0.1284186840057373\n",
            "Time taken is : 0.40971899032592773\n",
            "Time taken is : 0.5084517002105713\n",
            "Time taken is : 0.327808141708374\n",
            "Time taken is : 0.3191354274749756\n",
            "Time taken is : 0.1604764461517334\n",
            "Time taken is : 0.37631654739379883\n",
            "Time taken is : 0.08261704444885254\n",
            "Time taken is : 0.18803024291992188\n",
            "Time taken is : 0.27776265144348145\n",
            "Time taken is : 0.4299137592315674\n",
            "Time taken is : 0.5925734043121338\n",
            "Time taken is : 0.09167742729187012\n",
            "Time taken is : 0.44695520401000977\n",
            "Time taken is : 0.16643476486206055\n",
            "Time taken is : 0.1280803680419922\n",
            "Time taken is : 0.5879795551300049\n",
            "Time taken is : 0.26738882064819336\n",
            "Time taken is : 0.19753408432006836\n",
            "Time taken is : 0.3790879249572754\n",
            "Time taken is : 0.3087460994720459\n",
            "Time taken is : 0.22842669486999512\n",
            "Time taken is : 0.5040829181671143\n",
            "Time taken is : 0.29726386070251465\n",
            "Time taken is : 0.3702871799468994\n",
            "Time taken is : 0.41100263595581055\n",
            "Time taken is : 0.5690624713897705\n",
            "Time taken is : 1.1253106594085693\n",
            "Time taken is : 0.1244349479675293\n",
            "Time taken is : 0.15303373336791992\n",
            "Time taken is : 0.2314746379852295\n",
            "Time taken is : 0.797020435333252\n",
            "Time taken is : 1.2905004024505615\n",
            "Time taken is : 0.494368314743042\n",
            "Time taken is : 0.24269771575927734\n",
            "Time taken is : 0.31746745109558105\n",
            "Time taken is : 0.12480616569519043\n",
            "Time taken is : 0.350583553314209\n",
            "Time taken is : 0.14477777481079102\n",
            "Time taken is : 0.2699570655822754\n",
            "Time taken is : 0.25609850883483887\n",
            "Time taken is : 0.04048442840576172\n",
            "Time taken is : 0.4437100887298584\n",
            "Time taken is : 0.1858365535736084\n",
            "Time taken is : 0.41530299186706543\n",
            "Time taken is : 0.4516468048095703\n",
            "Time taken is : 0.4615023136138916\n",
            "Time taken is : 0.2052173614501953\n",
            "Time taken is : 0.2758769989013672\n",
            "Time taken is : 0.14652156829833984\n",
            "Time taken is : 0.3314330577850342\n",
            "Time taken is : 0.45680785179138184\n",
            "Time taken is : 0.049973249435424805\n",
            "Time taken is : 0.13115835189819336\n",
            "Time taken is : 0.1644127368927002\n",
            "Time taken is : 0.21744203567504883\n",
            "Time taken is : 0.04166126251220703\n",
            "Time taken is : 0.33656978607177734\n",
            "Time taken is : 0.3520803451538086\n",
            "Time taken is : 0.14676475524902344\n",
            "Time taken is : 0.3414642810821533\n",
            "Time taken is : 0.30866408348083496\n",
            "Time taken is : 0.10809803009033203\n",
            "Time taken is : 0.34219861030578613\n",
            "Time taken is : 0.3226583003997803\n",
            "Time taken is : 0.12008500099182129\n",
            "Time taken is : 0.5277678966522217\n",
            "Time taken is : 0.08942842483520508\n",
            "Time taken is : 0.4721202850341797\n",
            "Time taken is : 0.14693617820739746\n",
            "Time taken is : 0.6303527355194092\n",
            "Time taken is : 3.2498905658721924\n",
            "Time taken is : 0.2735140323638916\n",
            "Time taken is : 0.4844651222229004\n",
            "Time taken is : 0.40935635566711426\n",
            "Time taken is : 0.14773845672607422\n",
            "Time taken is : 0.4044942855834961\n",
            "Time taken is : 0.05344986915588379\n",
            "Time taken is : 0.27364182472229004\n",
            "Time taken is : 0.2767634391784668\n",
            "Time taken is : 0.31289100646972656\n",
            "Time taken is : 0.25718021392822266\n",
            "Time taken is : 0.1642603874206543\n",
            "Time taken is : 0.46016931533813477\n",
            "Time taken is : 0.12989258766174316\n",
            "Time taken is : 0.39988017082214355\n",
            "Time taken is : 0.0368039608001709\n",
            "Time taken is : 0.365598201751709\n",
            "Time taken is : 0.21964287757873535\n",
            "Time taken is : 0.4957427978515625\n",
            "Time taken is : 0.18830347061157227\n",
            "Time taken is : 0.3214688301086426\n",
            "Time taken is : 0.09924936294555664\n",
            "Time taken is : 0.21982026100158691\n",
            "Time taken is : 0.10560393333435059\n",
            "Time taken is : 0.3134167194366455\n",
            "Time taken is : 0.3093256950378418\n",
            "Time taken is : 0.041581153869628906\n",
            "Time taken is : 0.13565516471862793\n",
            "Time taken is : 0.421175479888916\n",
            "Time taken is : 0.07102274894714355\n",
            "Time taken is : 0.09600353240966797\n",
            "Time taken is : 0.0935966968536377\n",
            "Time taken is : 0.2090466022491455\n",
            "Time taken is : 0.22716593742370605\n",
            "Time taken is : 0.2848834991455078\n",
            "Time taken is : 0.4590647220611572\n",
            "Time taken is : 0.3856081962585449\n",
            "Time taken is : 0.24122047424316406\n",
            "Time taken is : 0.12126493453979492\n",
            "Time taken is : 0.2576146125793457\n",
            "Time taken is : 0.2366163730621338\n",
            "Time taken is : 0.7414419651031494\n",
            "Time taken is : 0.5229625701904297\n",
            "Time taken is : 0.7589378356933594\n",
            "Time taken is : 0.14571523666381836\n",
            "Time taken is : 0.31533074378967285\n",
            "Time taken is : 0.15758180618286133\n",
            "Time taken is : 0.7627310752868652\n",
            "Time taken is : 0.30405211448669434\n",
            "Time taken is : 0.2975034713745117\n",
            "Time taken is : 0.32073068618774414\n",
            "Time taken is : 0.16461515426635742\n",
            "Time taken is : 0.4331350326538086\n",
            "Time taken is : 0.44431567192077637\n",
            "Time taken is : 0.5477292537689209\n",
            "Time taken is : 0.3076605796813965\n",
            "Time taken is : 0.4672207832336426\n",
            "Time taken is : 0.34723925590515137\n",
            "Time taken is : 0.33959102630615234\n",
            "Time taken is : 0.33656811714172363\n",
            "Time taken is : 0.5198805332183838\n",
            "Time taken is : 0.34059977531433105\n",
            "Time taken is : 0.31668853759765625\n",
            "Time taken is : 0.22670674324035645\n",
            "Time taken is : 0.12724065780639648\n",
            "Time taken is : 0.3302760124206543\n",
            "Time taken is : 0.4329335689544678\n",
            "Time taken is : 0.4157295227050781\n",
            "Time taken is : 0.16435813903808594\n",
            "Time taken is : 0.2473604679107666\n",
            "Time taken is : 0.07653212547302246\n",
            "Time taken is : 0.20992016792297363\n",
            "Time taken is : 0.5285100936889648\n",
            "Time taken is : 0.38950181007385254\n",
            "Time taken is : 0.6448848247528076\n",
            "Time taken is : 0.49695539474487305\n",
            "Time taken is : 1.1552801132202148\n",
            "Time taken is : 1.0944626331329346\n",
            "Time taken is : 0.567007303237915\n",
            "Time taken is : 0.5015594959259033\n",
            "Time taken is : 0.22579097747802734\n",
            "Time taken is : 0.6341094970703125\n",
            "Time taken is : 0.7313358783721924\n",
            "Time taken is : 0.07193207740783691\n",
            "Time taken is : 0.34548497200012207\n",
            "Time taken is : 0.10461926460266113\n",
            "Time taken is : 0.36861276626586914\n",
            "Time taken is : 0.1133737564086914\n",
            "Time taken is : 0.07616758346557617\n",
            "Time taken is : 0.41525983810424805\n",
            "Time taken is : 0.23865485191345215\n",
            "Time taken is : 0.18461203575134277\n",
            "Time taken is : 0.21622681617736816\n",
            "Time taken is : 0.1405184268951416\n",
            "Time taken is : 0.08609914779663086\n",
            "Time taken is : 0.07703042030334473\n",
            "Time taken is : 0.37346887588500977\n",
            "Time taken is : 0.04786539077758789\n",
            "Time taken is : 0.4505429267883301\n",
            "Time taken is : 0.5132038593292236\n",
            "Time taken is : 0.11232590675354004\n",
            "Time taken is : 0.2630574703216553\n",
            "Time taken is : 0.4179353713989258\n",
            "Time taken is : 0.4395143985748291\n",
            "Time taken is : 0.142594575881958\n",
            "Time taken is : 0.5241172313690186\n",
            "Time taken is : 0.04403066635131836\n",
            "Time taken is : 0.1291825771331787\n",
            "Time taken is : 0.04191708564758301\n",
            "Time taken is : 0.4290807247161865\n",
            "Time taken is : 0.4867103099822998\n",
            "Time taken is : 0.7516441345214844\n",
            "Time taken is : 0.23160529136657715\n",
            "Time taken is : 0.11334586143493652\n",
            "Time taken is : 0.3449716567993164\n",
            "Time taken is : 0.03023695945739746\n",
            "Time taken is : 0.5182077884674072\n",
            "Time taken is : 0.13866758346557617\n",
            "Time taken is : 1.7475552558898926\n",
            "Time taken is : 0.7006490230560303\n",
            "Time taken is : 0.33972930908203125\n",
            "Time taken is : 0.19311165809631348\n",
            "Time taken is : 0.35874271392822266\n",
            "Time taken is : 0.22418737411499023\n",
            "Time taken is : 0.12551069259643555\n",
            "Time taken is : 0.7040064334869385\n",
            "Time taken is : 0.44389939308166504\n",
            "Time taken is : 0.04648733139038086\n",
            "Time taken is : 0.32892704010009766\n",
            "Time taken is : 36.471275091171265\n",
            "Time taken is : 0.34967637062072754\n",
            "Time taken is : 1.047492504119873\n",
            "Time taken is : 1.4322481155395508\n",
            "Time taken is : 0.3010592460632324\n",
            "Time taken is : 0.24263978004455566\n",
            "Time taken is : 0.5370652675628662\n",
            "Time taken is : 0.2644791603088379\n",
            "Time taken is : 0.381702184677124\n",
            "Time taken is : 0.3784151077270508\n",
            "Time taken is : 0.7265894412994385\n",
            "Time taken is : 0.19888520240783691\n",
            "Time taken is : 0.5160319805145264\n",
            "Time taken is : 0.31867194175720215\n",
            "Time taken is : 0.29040026664733887\n",
            "Time taken is : 0.34274721145629883\n",
            "Time taken is : 0.2760136127471924\n",
            "Time taken is : 0.20477747917175293\n",
            "Time taken is : 0.2962806224822998\n",
            "Time taken is : 0.38707852363586426\n",
            "Time taken is : 0.20488786697387695\n",
            "Time taken is : 0.2125260829925537\n",
            "Time taken is : 0.4514617919921875\n",
            "Time taken is : 0.1307840347290039\n",
            "Time taken is : 1.034679651260376\n",
            "Time taken is : 0.4122958183288574\n",
            "Time taken is : 0.10966730117797852\n",
            "Time taken is : 0.24728608131408691\n",
            "Time taken is : 0.4801597595214844\n",
            "Time taken is : 0.13445639610290527\n",
            "Time taken is : 0.20813798904418945\n",
            "Time taken is : 0.44682931900024414\n",
            "Time taken is : 0.08099222183227539\n",
            "Time taken is : 4.454794406890869\n",
            "Time taken is : 0.520399808883667\n",
            "Time taken is : 0.16446852684020996\n",
            "Time taken is : 0.15926003456115723\n",
            "Time taken is : 0.4357571601867676\n",
            "Time taken is : 0.18658876419067383\n",
            "Time taken is : 0.262969970703125\n",
            "Time taken is : 0.14279532432556152\n",
            "Time taken is : 0.3975865840911865\n",
            "Time taken is : 0.39472508430480957\n",
            "Time taken is : 0.21779274940490723\n",
            "Time taken is : 0.10236239433288574\n",
            "Time taken is : 0.15523004531860352\n",
            "Time taken is : 0.28598904609680176\n",
            "Time taken is : 0.17233777046203613\n",
            "Time taken is : 0.2135145664215088\n",
            "Time taken is : 0.06258130073547363\n",
            "Time taken is : 0.12299990653991699\n",
            "Time taken is : 0.23214101791381836\n",
            "Time taken is : 0.2296004295349121\n",
            "Time taken is : 0.38172340393066406\n",
            "Time taken is : 0.2131049633026123\n",
            "Time taken is : 0.2966644763946533\n",
            "Time taken is : 0.21427369117736816\n",
            "Time taken is : 0.1605067253112793\n",
            "Time taken is : 0.5244140625\n",
            "Time taken is : 0.2932312488555908\n",
            "Time taken is : 0.5681607723236084\n",
            "Time taken is : 0.6560063362121582\n",
            "Time taken is : 0.1877913475036621\n",
            "Time taken is : 0.22682619094848633\n",
            "Time taken is : 0.39291906356811523\n",
            "Time taken is : 0.33690714836120605\n",
            "Time taken is : 0.2882833480834961\n",
            "Time taken is : 0.39002466201782227\n",
            "Time taken is : 0.44744038581848145\n",
            "Time taken is : 0.16411614418029785\n",
            "Time taken is : 0.5676555633544922\n",
            "Time taken is : 0.08844423294067383\n",
            "Time taken is : 0.3527240753173828\n",
            "Time taken is : 0.455549955368042\n",
            "Time taken is : 0.3401498794555664\n",
            "Time taken is : 0.3564302921295166\n",
            "Time taken is : 0.16253232955932617\n",
            "Time taken is : 0.6611084938049316\n",
            "Time taken is : 0.43550753593444824\n",
            "Time taken is : 0.3695943355560303\n",
            "Time taken is : 0.2987396717071533\n",
            "Time taken is : 0.1119537353515625\n",
            "Time taken is : 0.39896130561828613\n",
            "Time taken is : 0.46136903762817383\n",
            "Time taken is : 0.31449031829833984\n",
            "Time taken is : 0.06137585639953613\n",
            "Time taken is : 0.3619527816772461\n",
            "Time taken is : 0.1182403564453125\n",
            "Time taken is : 0.5789554119110107\n",
            "Time taken is : 0.1383528709411621\n",
            "Time taken is : 0.11155867576599121\n",
            "Time taken is : 0.12737655639648438\n",
            "Time taken is : 0.33138275146484375\n",
            "Time taken is : 0.2206270694732666\n",
            "Time taken is : 0.33852243423461914\n",
            "Time taken is : 0.5148370265960693\n",
            "Time taken is : 0.2239668369293213\n",
            "Time taken is : 0.40046143531799316\n",
            "Time taken is : 0.3224186897277832\n",
            "Time taken is : 0.3191242218017578\n",
            "Time taken is : 0.4063277244567871\n",
            "Time taken is : 0.37081289291381836\n",
            "Time taken is : 0.4326949119567871\n",
            "Time taken is : 0.14490485191345215\n",
            "Time taken is : 0.1589202880859375\n",
            "Time taken is : 0.14084959030151367\n",
            "Time taken is : 0.4266233444213867\n",
            "Time taken is : 0.23605966567993164\n",
            "Time taken is : 0.087921142578125\n",
            "Time taken is : 0.22287344932556152\n",
            "Time taken is : 0.06446385383605957\n",
            "Time taken is : 0.9771404266357422\n",
            "Time taken is : 0.03697919845581055\n",
            "Time taken is : 0.03812074661254883\n",
            "Time taken is : 0.16688179969787598\n",
            "Time taken is : 0.23330259323120117\n",
            "Time taken is : 0.6240599155426025\n",
            "Time taken is : 1.0914673805236816\n",
            "Time taken is : 0.6410980224609375\n",
            "Time taken is : 0.7367711067199707\n",
            "Time taken is : 0.4561197757720947\n",
            "Time taken is : 0.14192485809326172\n",
            "Time taken is : 0.43068885803222656\n",
            "Time taken is : 0.5072774887084961\n",
            "Time taken is : 0.491473913192749\n",
            "Time taken is : 0.2431957721710205\n",
            "Time taken is : 0.037225961685180664\n",
            "Time taken is : 0.12036514282226562\n",
            "Time taken is : 0.31966471672058105\n",
            "Time taken is : 0.3951385021209717\n",
            "Time taken is : 0.13795089721679688\n",
            "Time taken is : 0.18620729446411133\n",
            "Time taken is : 0.4110136032104492\n",
            "Time taken is : 0.3228011131286621\n",
            "Time taken is : 0.14063191413879395\n",
            "Time taken is : 0.2639303207397461\n",
            "Time taken is : 0.11359095573425293\n",
            "Time taken is : 16.333704710006714\n",
            "Time taken is : 0.5150835514068604\n",
            "Time taken is : 0.0382227897644043\n",
            "Time taken is : 0.50594162940979\n",
            "Time taken is : 0.13838672637939453\n",
            "Time taken is : 0.14979910850524902\n",
            "Time taken is : 0.46762824058532715\n",
            "Time taken is : 0.25627660751342773\n",
            "Time taken is : 0.0925290584564209\n",
            "Time taken is : 0.05611991882324219\n",
            "Time taken is : 0.09738683700561523\n",
            "Time taken is : 0.27448368072509766\n",
            "Time taken is : 0.21610784530639648\n",
            "Time taken is : 0.20052647590637207\n",
            "Time taken is : 0.06360125541687012\n",
            "Time taken is : 0.06850361824035645\n",
            "Time taken is : 0.04143214225769043\n",
            "Time taken is : 0.2902348041534424\n",
            "Time taken is : 0.34551143646240234\n",
            "Time taken is : 1.8162169456481934\n",
            "Time taken is : 0.7112102508544922\n",
            "Time taken is : 0.11632013320922852\n",
            "Time taken is : 0.3030209541320801\n",
            "Time taken is : 0.20280814170837402\n",
            "Time taken is : 0.05238842964172363\n",
            "Time taken is : 0.6936337947845459\n",
            "Time taken is : 0.04033160209655762\n",
            "Time taken is : 0.08716607093811035\n",
            "Time taken is : 0.1924598217010498\n",
            "Time taken is : 0.07905912399291992\n",
            "Time taken is : 0.17041516304016113\n",
            "Time taken is : 0.1416912078857422\n",
            "Time taken is : 0.39667534828186035\n",
            "Time taken is : 0.12818431854248047\n",
            "Time taken is : 0.2887279987335205\n",
            "Time taken is : 0.24010252952575684\n",
            "Time taken is : 0.08272027969360352\n",
            "Time taken is : 0.03455972671508789\n",
            "Time taken is : 0.3695719242095947\n",
            "Time taken is : 0.13398432731628418\n",
            "Time taken is : 0.07279133796691895\n",
            "Time taken is : 0.1498556137084961\n",
            "Time taken is : 0.3962671756744385\n",
            "Time taken is : 0.1328113079071045\n",
            "Time taken is : 0.1236426830291748\n",
            "Time taken is : 0.47028398513793945\n",
            "Time taken is : 0.35861706733703613\n",
            "Time taken is : 0.07585024833679199\n",
            "Time taken is : 0.2469792366027832\n",
            "Time taken is : 1.0836241245269775\n",
            "Time taken is : 0.12128782272338867\n",
            "Time taken is : 0.08280467987060547\n",
            "Time taken is : 0.22307538986206055\n",
            "Time taken is : 0.34658217430114746\n",
            "Time taken is : 0.23534154891967773\n",
            "Time taken is : 0.10767340660095215\n",
            "Time taken is : 0.7223191261291504\n",
            "Time taken is : 0.0775151252746582\n",
            "Time taken is : 0.1269698143005371\n",
            "Time taken is : 0.249403715133667\n",
            "Time taken is : 0.14200353622436523\n",
            "Time taken is : 0.363081693649292\n",
            "Time taken is : 0.1466970443725586\n",
            "Time taken is : 0.2040407657623291\n",
            "Time taken is : 0.29959893226623535\n",
            "Time taken is : 0.5528550148010254\n",
            "Time taken is : 0.20202350616455078\n",
            "Time taken is : 0.1457822322845459\n",
            "Time taken is : 0.33825206756591797\n",
            "Time taken is : 0.06363987922668457\n",
            "Time taken is : 0.3216691017150879\n",
            "Time taken is : 0.3875908851623535\n",
            "Time taken is : 0.3818340301513672\n",
            "Time taken is : 0.244826078414917\n",
            "Time taken is : 0.35081028938293457\n",
            "Time taken is : 0.12569928169250488\n",
            "Time taken is : 0.6165177822113037\n",
            "Time taken is : 0.05766606330871582\n",
            "Time taken is : 0.110809326171875\n",
            "Time taken is : 0.2854936122894287\n",
            "Time taken is : 0.25405001640319824\n",
            "Time taken is : 0.08134317398071289\n",
            "Time taken is : 0.11434650421142578\n",
            "Time taken is : 0.16403603553771973\n",
            "Time taken is : 0.04150748252868652\n",
            "Time taken is : 0.5095424652099609\n",
            "Time taken is : 0.1498260498046875\n",
            "Time taken is : 0.09665751457214355\n",
            "Time taken is : 0.054825782775878906\n",
            "Time taken is : 0.38437700271606445\n",
            "Time taken is : 0.1551973819732666\n",
            "Time taken is : 0.11669349670410156\n",
            "Time taken is : 0.678225040435791\n",
            "Time taken is : 0.12354660034179688\n",
            "Time taken is : 0.706453800201416\n",
            "Time taken is : 0.03363943099975586\n",
            "Time taken is : 0.0832834243774414\n",
            "Time taken is : 0.1517798900604248\n",
            "Time taken is : 0.12525153160095215\n",
            "Time taken is : 0.0792236328125\n",
            "Time taken is : 0.5079905986785889\n",
            "Time taken is : 0.4987754821777344\n",
            "Time taken is : 0.06975841522216797\n",
            "Time taken is : 0.06983566284179688\n",
            "Time taken is : 0.02900075912475586\n",
            "Time taken is : 0.10464286804199219\n",
            "Time taken is : 0.38974714279174805\n",
            "Time taken is : 0.07953739166259766\n",
            "Time taken is : 0.04924726486206055\n",
            "Time taken is : 0.10099601745605469\n",
            "Time taken is : 0.5722742080688477\n",
            "Time taken is : 0.03410983085632324\n",
            "Time taken is : 0.3605961799621582\n",
            "Time taken is : 0.04506063461303711\n",
            "Time taken is : 0.14282441139221191\n",
            "Time taken is : 0.3453829288482666\n",
            "Time taken is : 0.3615586757659912\n",
            "Time taken is : 0.11017036437988281\n",
            "Time taken is : 0.01136159896850586\n",
            "Time taken is : 0.09666156768798828\n",
            "Time taken is : 0.24246430397033691\n",
            "Time taken is : 0.3153398036956787\n",
            "Time taken is : 0.1421680450439453\n",
            "Time taken is : 0.08884477615356445\n",
            "Time taken is : 0.08667349815368652\n",
            "Time taken is : 0.12572288513183594\n",
            "Time taken is : 0.11439704895019531\n",
            "Time taken is : 0.12018704414367676\n",
            "Time taken is : 0.3270108699798584\n",
            "Time taken is : 0.06694626808166504\n",
            "Processed 511 articles.\n",
            "Average BLEU Score: 0.1639\n"
          ]
        }
      ],
      "source": [
        "# Process all articles\n",
        "results, avg_bleu = process_all_articles(articles, summaries)\n",
        "\n",
        "# Display the results\n",
        "print(f\"Processed {len(results)} articles.\")\n",
        "print(f\"Average BLEU Score: {avg_bleu:.4f}\")"
      ]
    },
    {
      "cell_type": "code",
      "execution_count": null,
      "metadata": {
        "id": "Qh41gy1XHgWw"
      },
      "outputs": [],
      "source": [
        "# # Example: Access individual summaries and BLEU scores\n",
        "# for result in results[:5]:  # Show first 5 summaries\n",
        "#     print(f\"File: {result['file']}\")\n",
        "#     print(f\"Generated Summary: {result['summary']}\")\n",
        "#     print(f\"BLEU Score: {result['bleu']:.4f}\")\n",
        "#     print(\"-\" * 50)\n"
      ]
    }
  ],
  "metadata": {
    "colab": {
      "provenance": []
    },
    "kernelspec": {
      "display_name": "Python 3",
      "name": "python3"
    },
    "language_info": {
      "codemirror_mode": {
        "name": "ipython",
        "version": 3
      },
      "file_extension": ".py",
      "mimetype": "text/x-python",
      "name": "python",
      "nbconvert_exporter": "python",
      "pygments_lexer": "ipython3",
      "version": "3.11.6"
    }
  },
  "nbformat": 4,
  "nbformat_minor": 0
}
