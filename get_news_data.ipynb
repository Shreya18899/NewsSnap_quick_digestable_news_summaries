{
 "cells": [
  {
   "cell_type": "code",
   "execution_count": 1,
   "metadata": {},
   "outputs": [
    {
     "name": "stdout",
     "output_type": "stream",
     "text": [
      "Requirement already satisfied: requests in /Users/shreyasingh/miniconda3/lib/python3.11/site-packages (2.31.0)\n",
      "Requirement already satisfied: charset-normalizer<4,>=2 in /Users/shreyasingh/miniconda3/lib/python3.11/site-packages (from requests) (2.0.4)\n",
      "Requirement already satisfied: idna<4,>=2.5 in /Users/shreyasingh/miniconda3/lib/python3.11/site-packages (from requests) (3.4)\n",
      "Requirement already satisfied: urllib3<3,>=1.21.1 in /Users/shreyasingh/miniconda3/lib/python3.11/site-packages (from requests) (1.26.18)\n",
      "Requirement already satisfied: certifi>=2017.4.17 in /Users/shreyasingh/miniconda3/lib/python3.11/site-packages (from requests) (2023.11.17)\n"
     ]
    }
   ],
   "source": [
    "! pip install requests"
   ]
  },
  {
   "cell_type": "code",
   "execution_count": 2,
   "metadata": {},
   "outputs": [],
   "source": [
    "import requests"
   ]
  },
  {
   "cell_type": "markdown",
   "metadata": {},
   "source": [
    "## News API"
   ]
  },
  {
   "cell_type": "code",
   "execution_count": 3,
   "metadata": {},
   "outputs": [],
   "source": [
    "# Set your News API key\n",
    "API_KEY = 'e140046c97e6431bb9639f4ec07f08a3'\n",
    "\n",
    "# Base URL for News API\n",
    "BASE_URL = 'https://newsapi.org/v2/'"
   ]
  },
  {
   "cell_type": "code",
   "execution_count": 4,
   "metadata": {},
   "outputs": [],
   "source": [
    "def fetch_news(query, page_size=10, page=1):\n",
    "    \"\"\"\n",
    "    Fetches news articles based on a query using News API.\n",
    "\n",
    "    Parameters:\n",
    "        query (str): Search keyword or phrase.\n",
    "        page_size (int): Number of articles per page (default: 10).\n",
    "        page (int): Page number to retrieve (default: 1).\n",
    "\n",
    "    Returns:\n",
    "        dict: JSON response containing the news articles.\n",
    "    \"\"\"\n",
    "    endpoint = f\"{BASE_URL}everything\"\n",
    "    params = {\n",
    "        'q': query,\n",
    "        'pageSize': page_size,\n",
    "        'page': page,\n",
    "        'apiKey': API_KEY\n",
    "    }\n",
    "    \n",
    "    try:\n",
    "        response = requests.get(endpoint, params=params)\n",
    "        response.raise_for_status()  # Raise an HTTPError for bad responses\n",
    "        return response.json()\n",
    "    except requests.exceptions.RequestException as e:\n",
    "        print(f\"An error occurred: {e}\")\n",
    "        return None"
   ]
  },
  {
   "cell_type": "code",
   "execution_count": 5,
   "metadata": {},
   "outputs": [
    {
     "name": "stdout",
     "output_type": "stream",
     "text": [
      "Total Results: 13857\n",
      "Top Articles:\n",
      "1. All You Need for Artificial Intelligence is a Commodore 64\n",
      "   Source: Hackaday\n",
      "   URL: https://hackaday.com/2024/11/03/all-you-need-for-artificial-intelligence-is-a-commodore-64/\n",
      "\n",
      "2. Palantir Adds an AI Company to Its Arsenal for Military and Spy Work\n",
      "   Source: Gizmodo.com\n",
      "   URL: https://gizmodo.com/palantir-adds-an-ai-company-to-its-arsenal-for-military-and-spy-work-2000521508\n",
      "\n",
      "3. Watch: The Good, the Bad, and the Maybe: Artificial Intelligence\n",
      "   Source: Time\n",
      "   URL: https://time.com/7175088/artificial-intelligence-energy-use/\n",
      "\n",
      "4. Watch the AI robots that Jeff Bezos just invested in fold laundry and put eggs in a carton\n",
      "   Source: Business Insider\n",
      "   URL: https://www.businessinsider.com/jeff-bezos-invests-ai-robots-startup-physical-intelligence-2024-11\n",
      "\n",
      "5. Artificial Intelligence for Quantum Computing\n",
      "   Source: Arxiv.org\n",
      "   URL: https://arxiv.org/abs/2411.09131\n",
      "\n",
      "6. Amazon CEO Andy Jassy says he has a secret weapon in the AI wars\n",
      "   Source: Business Insider\n",
      "   URL: https://www.businessinsider.com/amazon-ceo-andy-jassy-secret-weapon-ai-aws-2024-10\n",
      "\n",
      "7. Here's how far we are from AGI, according to the people developing it\n",
      "   Source: Business Insider\n",
      "   URL: https://www.businessinsider.com/agi-predictions-sam-altman-dario-amodei-geoffrey-hinton-demis-hassabis-2024-11\n",
      "\n",
      "8. Feds Say Evolv Is Over-Hyping AI Tech in Gun Detectors\n",
      "   Source: Gizmodo.com\n",
      "   URL: https://gizmodo.com/feds-say-evolv-is-over-hyping-ai-tech-in-gun-detectors-2000530288\n",
      "\n",
      "9. Traffic on Bluesky, an X competitor, is up 500% since the election. How will they handle the surge?\n",
      "   Source: NPR\n",
      "   URL: https://www.npr.org/2024/11/19/g-s1-34898/bluesky-traffic-surge-after-election\n",
      "\n",
      "10. Former Google CEO Eric Schmidt discusses the DOJ move to have Google sell off Chrome\n",
      "   Source: NPR\n",
      "   URL: https://www.npr.org/2024/11/22/nx-s1-5199766/eric-schmidt-interview-the-justice-department-google-ai\n",
      "\n"
     ]
    }
   ],
   "source": [
    "# Example query to search for AI-related news\n",
    "query = \"artificial intelligence\"\n",
    "news_data = fetch_news(query)\n",
    "\n",
    "if news_data:\n",
    "    print(f\"Total Results: {news_data.get('totalResults', 0)}\")\n",
    "    print(\"Top Articles:\")\n",
    "    for i, article in enumerate(news_data.get('articles', []), start=1):\n",
    "        print(f\"{i}. {article['title']}\")\n",
    "        print(f\"   Source: {article['source']['name']}\")\n",
    "        print(f\"   URL: {article['url']}\")\n",
    "        print()"
   ]
  },
  {
   "cell_type": "code",
   "execution_count": 6,
   "metadata": {},
   "outputs": [],
   "source": [
    "def fetch_news_with_content(query, page_size=10, page=1):\n",
    "    \"\"\"\n",
    "    Fetches news articles with content snippets based on a query using News API.\n",
    "\n",
    "    Parameters:\n",
    "        query (str): Search keyword or phrase.\n",
    "        page_size (int): Number of articles per page (default: 10).\n",
    "        page (int): Page number to retrieve (default: 1).\n",
    "\n",
    "    Returns:\n",
    "        dict: JSON response containing the news articles.\n",
    "    \"\"\"\n",
    "    endpoint = f\"{BASE_URL}everything\"\n",
    "    params = {\n",
    "        'q': query,\n",
    "        'pageSize': page_size,\n",
    "        'page': page,\n",
    "        'apiKey': API_KEY\n",
    "    }\n",
    "    \n",
    "    try:\n",
    "        response = requests.get(endpoint, params=params)\n",
    "        response.raise_for_status()  # Raise an HTTPError for bad responses\n",
    "        return response.json()\n",
    "    except requests.exceptions.RequestException as e:\n",
    "        print(f\"An error occurred: {e}\")\n",
    "        return None"
   ]
  },
  {
   "cell_type": "code",
   "execution_count": 7,
   "metadata": {},
   "outputs": [
    {
     "name": "stdout",
     "output_type": "stream",
     "text": [
      "Total Results: 13857\n",
      "Top Articles with Content:\n",
      "1. All You Need for Artificial Intelligence is a Commodore 64\n",
      "   Source: Hackaday\n",
      "   Content: Artificial intelligence has always been around us, with [Timothy J. O’Malley]’s 1985 book on AI projects for the Commodore 64 being one example of this. With AI defined as being the theory and develo… [+1987 chars]\n",
      "   URL: https://hackaday.com/2024/11/03/all-you-need-for-artificial-intelligence-is-a-commodore-64/\n",
      "\n",
      "2. Palantir Adds an AI Company to Its Arsenal for Military and Spy Work\n",
      "   Source: Gizmodo.com\n",
      "   Content: Further entrenching its position as spooks’ and soldiers’ go-to supplier for artificial intelligence, Palantir on Thursday announced that it will be adding Anthropic’s Claude models to the suite of t… [+2757 chars]\n",
      "   URL: https://gizmodo.com/palantir-adds-an-ai-company-to-its-arsenal-for-military-and-spy-work-2000521508\n",
      "\n",
      "3. Watch: The Good, the Bad, and the Maybe: Artificial Intelligence\n",
      "   Source: Time\n",
      "   Content: By Shyla Raghav and Video By Andrew D. Johnson\n",
      "November 12, 2024 10:43 AM EST\n",
      "Did you know that the expansion of AI will require as much new energy as some countries? TIME Chief Climate Officer Shy… [+72 chars]\n",
      "   URL: https://time.com/7175088/artificial-intelligence-energy-use/\n",
      "\n",
      "4. Watch the AI robots that Jeff Bezos just invested in fold laundry and put eggs in a carton\n",
      "   Source: Business Insider\n",
      "   Content: Jeff Bezos is one of the investors in Physical Intelligence's latest funding round.Physical Intelligence\n",
      "<ul><li>Jeff Bezos just invested in an artificial intelligence startup creating digital brain… [+4528 chars]\n",
      "   URL: https://www.businessinsider.com/jeff-bezos-invests-ai-robots-startup-physical-intelligence-2024-11\n",
      "\n",
      "5. Artificial Intelligence for Quantum Computing\n",
      "   Source: Arxiv.org\n",
      "   Content: arXivLabs is a framework that allows collaborators to develop and share new arXiv features directly on our website.\n",
      "Both individuals and organizations that work with arXivLabs have embraced and acce… [+257 chars]\n",
      "   URL: https://arxiv.org/abs/2411.09131\n",
      "\n",
      "6. Amazon CEO Andy Jassy says he has a secret weapon in the AI wars\n",
      "   Source: Business Insider\n",
      "   Content: CEO Andy Jassy talked up Amazon's investments in AI during Amazon's third-quarter earnings call.Rodin Eckenroth/WireImage\n",
      "<ul><li>Amazon CEO Andy Jassy said AWS gives the company a leg up in the AI … [+2579 chars]\n",
      "   URL: https://www.businessinsider.com/amazon-ceo-andy-jassy-secret-weapon-ai-aws-2024-10\n",
      "\n",
      "7. Here's how far we are from AGI, according to the people developing it\n",
      "   Source: Business Insider\n",
      "   Content: Chen\n",
      "<ul><li>AGI, or artificial general intelligence, is a still-theoretical AI that can reason like humans.</li><li>Top researchers agree the leap to AGI is close but differ on just how close.</li>… [+4989 chars]\n",
      "   URL: https://www.businessinsider.com/agi-predictions-sam-altman-dario-amodei-geoffrey-hinton-demis-hassabis-2024-11\n",
      "\n",
      "8. Feds Say Evolv Is Over-Hyping AI Tech in Gun Detectors\n",
      "   Source: Gizmodo.com\n",
      "   Content: Evolv, the company behind a controversial “artificial intelligence” system used to detect guns on New York subways and in schools across the country, has been accused by the Federal Trade Commission … [+3057 chars]\n",
      "   URL: https://gizmodo.com/feds-say-evolv-is-over-hyping-ai-tech-in-gun-detectors-2000530288\n",
      "\n",
      "9. Traffic on Bluesky, an X competitor, is up 500% since the election. How will they handle the surge?\n",
      "   Source: NPR\n",
      "   Content: The day after the presidential election, the social media landscape shook.\n",
      "On Elon Musk's X, more than 115,000 users deactivated their accounts, the largest-ever mass exit from the platform. At the … [+8014 chars]\n",
      "   URL: https://www.npr.org/2024/11/19/g-s1-34898/bluesky-traffic-surge-after-election\n",
      "\n",
      "10. Former Google CEO Eric Schmidt discusses the DOJ move to have Google sell off Chrome\n",
      "   Source: NPR\n",
      "   Content: The Department of Justice is pushing for Google to spin off its Chrome browser. In August, a landmark ruling found Google had violated antitrust laws by creating an illegal monopoly. Federal prosecut… [+6651 chars]\n",
      "   URL: https://www.npr.org/2024/11/22/nx-s1-5199766/eric-schmidt-interview-the-justice-department-google-ai\n",
      "\n"
     ]
    }
   ],
   "source": [
    "# Example query to search for AI-related news\n",
    "query = \"artificial intelligence\"\n",
    "news_data = fetch_news_with_content(query)\n",
    "\n",
    "if news_data:\n",
    "    print(f\"Total Results: {news_data.get('totalResults', 0)}\")\n",
    "    print(\"Top Articles with Content:\")\n",
    "    for i, article in enumerate(news_data.get('articles', []), start=1):\n",
    "        print(f\"{i}. {article['title']}\")\n",
    "        print(f\"   Source: {article['source']['name']}\")\n",
    "        print(f\"   Content: {article.get('content', 'No content available')}\")\n",
    "        print(f\"   URL: {article['url']}\")\n",
    "        print()"
   ]
  },
  {
   "cell_type": "markdown",
   "metadata": {},
   "source": [
    "## World News API"
   ]
  },
  {
   "cell_type": "code",
   "execution_count": 5,
   "metadata": {},
   "outputs": [],
   "source": [
    "import requests\n",
    "\n",
    "def my_custom_function():\n",
    "    url = \"https://api.worldnewsapi.com/search-news?text=earthquake&language=en&earliest-publish-date=2024-04-01\"\n",
    "    api_key = \"6821bf2566fd494588dd4ca423391005\"\n",
    "\n",
    "    headers = {\n",
    "        'api-key': api_key}\n",
    "\n",
    "    response = requests.get(url, headers=headers)\n",
    "    print(response)\n",
    "\n",
    "    if response.status_code == 200:\n",
    "        return response.json()\n",
    "    else:\n",
    "        return f\"Error: {response.status_code} - {response.text}\"\n"
   ]
  },
  {
   "cell_type": "code",
   "execution_count": 6,
   "metadata": {},
   "outputs": [
    {
     "name": "stdout",
     "output_type": "stream",
     "text": [
      "<Response [401]>\n",
      "Error: 401 - {\"status\":\"failure\", \"code\":401,\"message\":\"You are not authorized. Please read https://worldnewsapi.com/docs/authentication/\"}\n"
     ]
    }
   ],
   "source": [
    "print(my_custom_function())"
   ]
  },
  {
   "cell_type": "code",
   "execution_count": null,
   "metadata": {},
   "outputs": [],
   "source": []
  }
 ],
 "metadata": {
  "kernelspec": {
   "display_name": "Python 3",
   "language": "python",
   "name": "python3"
  },
  "language_info": {
   "codemirror_mode": {
    "name": "ipython",
    "version": 3
   },
   "file_extension": ".py",
   "mimetype": "text/x-python",
   "name": "python",
   "nbconvert_exporter": "python",
   "pygments_lexer": "ipython3",
   "version": "3.11.6"
  }
 },
 "nbformat": 4,
 "nbformat_minor": 2
}
